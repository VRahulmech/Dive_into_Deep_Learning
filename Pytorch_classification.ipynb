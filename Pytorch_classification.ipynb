{
  "nbformat": 4,
  "nbformat_minor": 0,
  "metadata": {
    "colab": {
      "provenance": [],
      "authorship_tag": "ABX9TyM2qbahza61nOnrx6RqM1gr"
    },
    "kernelspec": {
      "name": "python3",
      "display_name": "Python 3"
    },
    "language_info": {
      "name": "python"
    }
  },
  "cells": [
    {
      "cell_type": "code",
      "execution_count": 129,
      "metadata": {
        "id": "FbowUyivPQHN"
      },
      "outputs": [],
      "source": [
        "import numpy as np\n",
        "import pandas as pd\n",
        "import torch\n",
        "import torch.nn as nn\n",
        "import matplotlib.pyplot as plt"
      ]
    },
    {
      "cell_type": "code",
      "source": [
        "from sklearn.datasets import load_breast_cancer"
      ],
      "metadata": {
        "id": "XpUHYA7WP-hX"
      },
      "execution_count": 130,
      "outputs": []
    },
    {
      "cell_type": "code",
      "source": [
        "ldc = load_breast_cancer()\n",
        "X = ldc['data']\n",
        "y = ldc['target']"
      ],
      "metadata": {
        "id": "mMPtUqaNQFaS"
      },
      "execution_count": 131,
      "outputs": []
    },
    {
      "cell_type": "code",
      "source": [
        "from sklearn.model_selection import train_test_split\n",
        "x_train, x_test, y_train, y_test = train_test_split(X, y, test_size=0.2, stratify=y, random_state=1)"
      ],
      "metadata": {
        "id": "HBVhPbqTS5tI"
      },
      "execution_count": 132,
      "outputs": []
    },
    {
      "cell_type": "code",
      "source": [
        "from sklearn.preprocessing import StandardScaler\n",
        "sc = StandardScaler()\n",
        "x_train_scaled = sc.fit_transform(x_train)\n",
        "x_test_scaled = sc.transform(x_test)"
      ],
      "metadata": {
        "id": "NWufkN3NTEXR"
      },
      "execution_count": 133,
      "outputs": []
    },
    {
      "cell_type": "code",
      "source": [
        "log_model = nn.Sequential(\n",
        "    nn.Linear(30, 1),\n",
        "    nn.Sigmoid()\n",
        ")\n",
        "\n",
        "criterion = nn.BCELoss()\n",
        "optimizer = torch.optim.Adam(log_model.parameters())\n",
        "\n"
      ],
      "metadata": {
        "id": "q2dHoHuDTkTy"
      },
      "execution_count": 134,
      "outputs": []
    },
    {
      "cell_type": "code",
      "source": [
        "epoches = 5000\n",
        "losses = []\n",
        "x_train_tensor = torch.from_numpy(x_train_scaled.reshape(-1,30).astype(np.float32))\n",
        "x_test_tensor = torch.from_numpy(x_test_scaled.reshape(-1, 30).astype(np.float32))\n",
        "y_train_tensor = torch.from_numpy(y_train.reshape(-1,1).astype(np.float32))\n",
        "y_test_tensor = torch.from_numpy(y_test.reshape(-1,1).astype(np.float32))\n",
        "\n",
        "for it in range(epoches):\n",
        "  optimizer.zero_grad()\n",
        "  out = log_model(x_train_tensor)\n",
        "  loss = criterion(out, y_train_tensor)\n",
        "  losses.append(loss.item())\n",
        "  loss.backward()\n",
        "  optimizer.step()\n"
      ],
      "metadata": {
        "id": "bL0jfqoMT9--"
      },
      "execution_count": 135,
      "outputs": []
    },
    {
      "cell_type": "code",
      "source": [
        "plt.plot(losses)"
      ],
      "metadata": {
        "colab": {
          "base_uri": "https://localhost:8080/",
          "height": 448
        },
        "id": "mFtHs0IiUbRK",
        "outputId": "8e746349-ae3e-4f27-8526-d96897ea9004"
      },
      "execution_count": 136,
      "outputs": [
        {
          "output_type": "execute_result",
          "data": {
            "text/plain": [
              "[<matplotlib.lines.Line2D at 0x79d66b027d90>]"
            ]
          },
          "metadata": {},
          "execution_count": 136
        },
        {
          "output_type": "display_data",
          "data": {
            "text/plain": [
              "<Figure size 640x480 with 1 Axes>"
            ],
            "image/png": "[encoded data removed]"
          },
          "metadata": {}
        }
      ]
    },
    {
      "cell_type": "code",
      "source": [
        "with torch.no_grad():\n",
        "  pred = log_model(x_test_tensor)\n",
        "  out = np.round(pred.numpy())\n",
        "  print(np.mean(out==y_test_tensor.numpy()))\n",
        "\n",
        "  pred = log_model(x_train_tensor)\n",
        "  out = np.round(pred.numpy())\n",
        "  print(np.mean(out==y_train_tensor.numpy()))"
      ],
      "metadata": {
        "colab": {
          "base_uri": "https://localhost:8080/"
        },
        "id": "7Duz87ZbXt4i",
        "outputId": "de5369ac-b0aa-4170-98fd-559b7f8f66c8"
      },
      "execution_count": 138,
      "outputs": [
        {
          "output_type": "stream",
          "name": "stdout",
          "text": [
            "0.9824561403508771\n",
            "0.989010989010989\n"
          ]
        }
      ]
    },
    {
      "cell_type": "code",
      "source": [],
      "metadata": {
        "id": "MdqU25zlZ6d_"
      },
      "execution_count": null,
      "outputs": []
    }
  ]
}