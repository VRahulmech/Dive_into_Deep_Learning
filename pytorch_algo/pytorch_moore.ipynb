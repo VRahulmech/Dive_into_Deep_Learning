{
  "nbformat": 4,
  "nbformat_minor": 0,
  "metadata": {
    "colab": {
      "provenance": [],
      "authorship_tag": "ABX9TyPtVNs4SDbtAKUvnSlpvx40"
    },
    "kernelspec": {
      "name": "python3",
      "display_name": "Python 3"
    },
    "language_info": {
      "name": "python"
    }
  },
  "cells": [
    {
      "cell_type": "code",
      "execution_count": 25,
      "metadata": {
        "id": "qcorgECzmBtT"
      },
      "outputs": [],
      "source": [
        "import torch\n",
        "import torch.nn as nn\n",
        "import numpy as np\n",
        "import pandas as pd\n",
        "import matplotlib.pyplot as plt\n",
        "import random\n",
        "#random.seed(0)\n",
        "\n",
        "#np.random.seed(0)\n",
        "\n",
        "#torch.manual_seed(0)\n",
        "#torch.backends.cudnn.deterministic = True\n",
        "#torch.backends.cudnn.benchmark = False\n",
        "\n",
        "import os\n",
        "\n",
        "#os.environ['CUDNN_DETERMINISTIC'] = '1'\n",
        "#os.environ['CUDNN_BENCHMARK'] = '0'"
      ]
    },
    {
      "cell_type": "code",
      "source": [
        "data = pd.read_csv(\"raw_data.csv\", delimiter=\";\")"
      ],
      "metadata": {
        "id": "T1KtacSLmCdV"
      },
      "execution_count": 26,
      "outputs": []
    },
    {
      "cell_type": "code",
      "source": [
        "data.head()"
      ],
      "metadata": {
        "colab": {
          "base_uri": "https://localhost:8080/",
          "height": 206
        },
        "id": "cPJI1O04mU5M",
        "outputId": "a3452cf7-eec5-49ca-c934-ccf151d74689"
      },
      "execution_count": 27,
      "outputs": [
        {
          "output_type": "execute_result",
          "data": {
            "text/plain": [
              "   Year  Transistors  Clock (MHz)  Power Density (W/cm²)  Cores\n",
              "0  1971         2300         0.74               3.750000      1\n",
              "1  1974         4500         2.00               3.900000      1\n",
              "2  1976         6500         3.00               4.450000      1\n",
              "3  1978        29000         5.00               5.666667      1\n",
              "4  1979        29000         5.00               5.151515      1"
            ],
            "text/html": [
              "\n",
              "  <div id=\"df-1d35ad80-49f9-4c0e-a405-3dc3e2343efa\" class=\"colab-df-container\">\n",
              "    <div>\n",
              "<style scoped>\n",
              "    .dataframe tbody tr th:only-of-type {\n",
              "        vertical-align: middle;\n",
              "    }\n",
              "\n",
              "    .dataframe tbody tr th {\n",
              "        vertical-align: top;\n",
              "    }\n",
              "\n",
              "    .dataframe thead th {\n",
              "        text-align: right;\n",
              "    }\n",
              "</style>\n",
              "<table border=\"1\" class=\"dataframe\">\n",
              "  <thead>\n",
              "    <tr style=\"text-align: right;\">\n",
              "      <th></th>\n",
              "      <th>Year</th>\n",
              "      <th>Transistors</th>\n",
              "      <th>Clock (MHz)</th>\n",
              "      <th>Power Density (W/cm²)</th>\n",
              "      <th>Cores</th>\n",
              "    </tr>\n",
              "  </thead>\n",
              "  <tbody>\n",
              "    <tr>\n",
              "      <th>0</th>\n",
              "      <td>1971</td>\n",
              "      <td>2300</td>\n",
              "      <td>0.74</td>\n",
              "      <td>3.750000</td>\n",
              "      <td>1</td>\n",
              "    </tr>\n",
              "    <tr>\n",
              "      <th>1</th>\n",
              "      <td>1974</td>\n",
              "      <td>4500</td>\n",
              "      <td>2.00</td>\n",
              "      <td>3.900000</td>\n",
              "      <td>1</td>\n",
              "    </tr>\n",
              "    <tr>\n",
              "      <th>2</th>\n",
              "      <td>1976</td>\n",
              "      <td>6500</td>\n",
              "      <td>3.00</td>\n",
              "      <td>4.450000</td>\n",
              "      <td>1</td>\n",
              "    </tr>\n",
              "    <tr>\n",
              "      <th>3</th>\n",
              "      <td>1978</td>\n",
              "      <td>29000</td>\n",
              "      <td>5.00</td>\n",
              "      <td>5.666667</td>\n",
              "      <td>1</td>\n",
              "    </tr>\n",
              "    <tr>\n",
              "      <th>4</th>\n",
              "      <td>1979</td>\n",
              "      <td>29000</td>\n",
              "      <td>5.00</td>\n",
              "      <td>5.151515</td>\n",
              "      <td>1</td>\n",
              "    </tr>\n",
              "  </tbody>\n",
              "</table>\n",
              "</div>\n",
              "    <div class=\"colab-df-buttons\">\n",
              "\n",
              "  <div class=\"colab-df-container\">\n",
              "    <button class=\"colab-df-convert\" onclick=\"convertToInteractive('df-1d35ad80-49f9-4c0e-a405-3dc3e2343efa')\"\n",
              "            title=\"Convert this dataframe to an interactive table.\"\n",
              "            style=\"display:none;\">\n",
              "\n",
              "  <svg xmlns=\"http://www.w3.org/2000/svg\" height=\"24px\" viewBox=\"0 -960 960 960\">\n",
              "    <path d=\"M120-120v-720h720v720H120Zm60-500h600v-160H180v160Zm220 220h160v-160H400v160Zm0 220h160v-160H400v160ZM180-400h160v-160H180v160Zm440 0h160v-160H620v160ZM180-180h160v-160H180v160Zm440 0h160v-160H620v160Z\"/>\n",
              "  </svg>\n",
              "    </button>\n",
              "\n",
              "  <style>\n",
              "    .colab-df-container {\n",
              "      display:flex;\n",
              "      gap: 12px;\n",
              "    }\n",
              "\n",
              "    .colab-df-convert {\n",
              "      background-color: #E8F0FE;\n",
              "      border: none;\n",
              "      border-radius: 50%;\n",
              "      cursor: pointer;\n",
              "      display: none;\n",
              "      fill: #1967D2;\n",
              "      height: 32px;\n",
              "      padding: 0 0 0 0;\n",
              "      width: 32px;\n",
              "    }\n",
              "\n",
              "    .colab-df-convert:hover {\n",
              "      background-color: #E2EBFA;\n",
              "      box-shadow: 0px 1px 2px rgba(60, 64, 67, 0.3), 0px 1px 3px 1px rgba(60, 64, 67, 0.15);\n",
              "      fill: #174EA6;\n",
              "    }\n",
              "\n",
              "    .colab-df-buttons div {\n",
              "      margin-bottom: 4px;\n",
              "    }\n",
              "\n",
              "    [theme=dark] .colab-df-convert {\n",
              "      background-color: #3B4455;\n",
              "      fill: #D2E3FC;\n",
              "    }\n",
              "\n",
              "    [theme=dark] .colab-df-convert:hover {\n",
              "      background-color: #434B5C;\n",
              "      box-shadow: 0px 1px 3px 1px rgba(0, 0, 0, 0.15);\n",
              "      filter: drop-shadow(0px 1px 2px rgba(0, 0, 0, 0.3));\n",
              "      fill: #FFFFFF;\n",
              "    }\n",
              "  </style>\n",
              "\n",
              "    <script>\n",
              "      const buttonEl =\n",
              "        document.querySelector('#df-1d35ad80-49f9-4c0e-a405-3dc3e2343efa button.colab-df-convert');\n",
              "      buttonEl.style.display =\n",
              "        google.colab.kernel.accessAllowed ? 'block' : 'none';\n",
              "\n",
              "      async function convertToInteractive(key) {\n",
              "        const element = document.querySelector('#df-1d35ad80-49f9-4c0e-a405-3dc3e2343efa');\n",
              "        const dataTable =\n",
              "          await google.colab.kernel.invokeFunction('convertToInteractive',\n",
              "                                                    [key], {});\n",
              "        if (!dataTable) return;\n",
              "\n",
              "        const docLinkHtml = 'Like what you see? Visit the ' +\n",
              "          '<a target=\"_blank\" href=https://colab.research.google.com/notebooks/data_table.ipynb>data table notebook</a>'\n",
              "          + ' to learn more about interactive tables.';\n",
              "        element.innerHTML = '';\n",
              "        dataTable['output_type'] = 'display_data';\n",
              "        await google.colab.output.renderOutput(dataTable, element);\n",
              "        const docLink = document.createElement('div');\n",
              "        docLink.innerHTML = docLinkHtml;\n",
              "        element.appendChild(docLink);\n",
              "      }\n",
              "    </script>\n",
              "  </div>\n",
              "\n",
              "\n",
              "<div id=\"df-4d85b788-1b04-49d7-b9ce-de0317252a28\">\n",
              "  <button class=\"colab-df-quickchart\" onclick=\"quickchart('df-4d85b788-1b04-49d7-b9ce-de0317252a28')\"\n",
              "            title=\"Suggest charts.\"\n",
              "            style=\"display:none;\">\n",
              "\n",
              "<svg xmlns=\"http://www.w3.org/2000/svg\" height=\"24px\"viewBox=\"0 0 24 24\"\n",
              "     width=\"24px\">\n",
              "    <g>\n",
              "        <path d=\"M19 3H5c-1.1 0-2 .9-2 2v14c0 1.1.9 2 2 2h14c1.1 0 2-.9 2-2V5c0-1.1-.9-2-2-2zM9 17H7v-7h2v7zm4 0h-2V7h2v10zm4 0h-2v-4h2v4z\"/>\n",
              "    </g>\n",
              "</svg>\n",
              "  </button>\n",
              "\n",
              "<style>\n",
              "  .colab-df-quickchart {\n",
              "      --bg-color: #E8F0FE;\n",
              "      --fill-color: #1967D2;\n",
              "      --hover-bg-color: #E2EBFA;\n",
              "      --hover-fill-color: #174EA6;\n",
              "      --disabled-fill-color: #AAA;\n",
              "      --disabled-bg-color: #DDD;\n",
              "  }\n",
              "\n",
              "  [theme=dark] .colab-df-quickchart {\n",
              "      --bg-color: #3B4455;\n",
              "      --fill-color: #D2E3FC;\n",
              "      --hover-bg-color: #434B5C;\n",
              "      --hover-fill-color: #FFFFFF;\n",
              "      --disabled-bg-color: #3B4455;\n",
              "      --disabled-fill-color: #666;\n",
              "  }\n",
              "\n",
              "  .colab-df-quickchart {\n",
              "    background-color: var(--bg-color);\n",
              "    border: none;\n",
              "    border-radius: 50%;\n",
              "    cursor: pointer;\n",
              "    display: none;\n",
              "    fill: var(--fill-color);\n",
              "    height: 32px;\n",
              "    padding: 0;\n",
              "    width: 32px;\n",
              "  }\n",
              "\n",
              "  .colab-df-quickchart:hover {\n",
              "    background-color: var(--hover-bg-color);\n",
              "    box-shadow: 0 1px 2px rgba(60, 64, 67, 0.3), 0 1px 3px 1px rgba(60, 64, 67, 0.15);\n",
              "    fill: var(--button-hover-fill-color);\n",
              "  }\n",
              "\n",
              "  .colab-df-quickchart-complete:disabled,\n",
              "  .colab-df-quickchart-complete:disabled:hover {\n",
              "    background-color: var(--disabled-bg-color);\n",
              "    fill: var(--disabled-fill-color);\n",
              "    box-shadow: none;\n",
              "  }\n",
              "\n",
              "  .colab-df-spinner {\n",
              "    border: 2px solid var(--fill-color);\n",
              "    border-color: transparent;\n",
              "    border-bottom-color: var(--fill-color);\n",
              "    animation:\n",
              "      spin 1s steps(1) infinite;\n",
              "  }\n",
              "\n",
              "  @keyframes spin {\n",
              "    0% {\n",
              "      border-color: transparent;\n",
              "      border-bottom-color: var(--fill-color);\n",
              "      border-left-color: var(--fill-color);\n",
              "    }\n",
              "    20% {\n",
              "      border-color: transparent;\n",
              "      border-left-color: var(--fill-color);\n",
              "      border-top-color: var(--fill-color);\n",
              "    }\n",
              "    30% {\n",
              "      border-color: transparent;\n",
              "      border-left-color: var(--fill-color);\n",
              "      border-top-color: var(--fill-color);\n",
              "      border-right-color: var(--fill-color);\n",
              "    }\n",
              "    40% {\n",
              "      border-color: transparent;\n",
              "      border-right-color: var(--fill-color);\n",
              "      border-top-color: var(--fill-color);\n",
              "    }\n",
              "    60% {\n",
              "      border-color: transparent;\n",
              "      border-right-color: var(--fill-color);\n",
              "    }\n",
              "    80% {\n",
              "      border-color: transparent;\n",
              "      border-right-color: var(--fill-color);\n",
              "      border-bottom-color: var(--fill-color);\n",
              "    }\n",
              "    90% {\n",
              "      border-color: transparent;\n",
              "      border-bottom-color: var(--fill-color);\n",
              "    }\n",
              "  }\n",
              "</style>\n",
              "\n",
              "  <script>\n",
              "    async function quickchart(key) {\n",
              "      const quickchartButtonEl =\n",
              "        document.querySelector('#' + key + ' button');\n",
              "      quickchartButtonEl.disabled = true;  // To prevent multiple clicks.\n",
              "      quickchartButtonEl.classList.add('colab-df-spinner');\n",
              "      try {\n",
              "        const charts = await google.colab.kernel.invokeFunction(\n",
              "            'suggestCharts', [key], {});\n",
              "      } catch (error) {\n",
              "        console.error('Error during call to suggestCharts:', error);\n",
              "      }\n",
              "      quickchartButtonEl.classList.remove('colab-df-spinner');\n",
              "      quickchartButtonEl.classList.add('colab-df-quickchart-complete');\n",
              "    }\n",
              "    (() => {\n",
              "      let quickchartButtonEl =\n",
              "        document.querySelector('#df-4d85b788-1b04-49d7-b9ce-de0317252a28 button');\n",
              "      quickchartButtonEl.style.display =\n",
              "        google.colab.kernel.accessAllowed ? 'block' : 'none';\n",
              "    })();\n",
              "  </script>\n",
              "</div>\n",
              "    </div>\n",
              "  </div>\n"
            ]
          },
          "metadata": {},
          "execution_count": 27
        }
      ]
    },
    {
      "cell_type": "code",
      "source": [
        "data.drop([\"Cores\",\"Clock (MHz)\", \"Power Density (W/cm²)\"], axis=1, inplace = True)"
      ],
      "metadata": {
        "id": "0go67i-onGC2"
      },
      "execution_count": 28,
      "outputs": []
    },
    {
      "cell_type": "code",
      "source": [
        "# 2 runs; first without standardisation; second with standardization\n",
        "X = np.array(data[\"Year\"])\n",
        "y = np.array(data[\"Transistors\"])\n",
        "log_y = np.log(y)\n",
        "plt.scatter(X,log_y)"
      ],
      "metadata": {
        "colab": {
          "base_uri": "https://localhost:8080/",
          "height": 448
        },
        "id": "RXF1dIL2nYfo",
        "outputId": "a7d4c21d-37fd-4044-87cf-5ae34f55d945"
      },
      "execution_count": 29,
      "outputs": [
        {
          "output_type": "execute_result",
          "data": {
            "text/plain": [
              "<matplotlib.collections.PathCollection at 0x7809c133c850>"
            ]
          },
          "metadata": {},
          "execution_count": 29
        },
        {
          "output_type": "display_data",
          "data": {
            "text/plain": [
              "<Figure size 640x480 with 1 Axes>"
            ],
            "image/png": "[encoded data removed]"
          },
          "metadata": {}
        }
      ]
    },
    {
      "cell_type": "code",
      "source": [
        "inputs = torch.from_numpy(X.reshape(-1,1).astype(np.float32))\n",
        "targets = torch.from_numpy(log_y.reshape(-1,1).astype(np.float32))"
      ],
      "metadata": {
        "id": "UnGQQzyknntU"
      },
      "execution_count": 30,
      "outputs": []
    },
    {
      "cell_type": "code",
      "source": [
        "plt.scatter(inputs,targets)"
      ],
      "metadata": {
        "id": "Wy-bFU5JTNPH",
        "outputId": "3765d23d-b8d0-480e-c488-5fb713084682",
        "colab": {
          "base_uri": "https://localhost:8080/",
          "height": 448
        }
      },
      "execution_count": 31,
      "outputs": [
        {
          "output_type": "execute_result",
          "data": {
            "text/plain": [
              "<matplotlib.collections.PathCollection at 0x7809c11aa3b0>"
            ]
          },
          "metadata": {},
          "execution_count": 31
        },
        {
          "output_type": "display_data",
          "data": {
            "text/plain": [
              "<Figure size 640x480 with 1 Axes>"
            ],
            "image/png": "[encoded data removed]"
          },
          "metadata": {}
        }
      ]
    },
    {
      "cell_type": "code",
      "source": [
        "lin_model1 = nn.Linear(1,1)\n"
      ],
      "metadata": {
        "id": "OJbZACckopTu"
      },
      "execution_count": 51,
      "outputs": []
    },
    {
      "cell_type": "code",
      "source": [
        "criterion = nn.MSELoss(reduce=\"mean\")\n",
        "optimizer = torch.optim.SGD(lin_model1.parameters(), lr = 0.001)"
      ],
      "metadata": {
        "id": "X4KkKBZAoKlD"
      },
      "execution_count": 52,
      "outputs": []
    },
    {
      "cell_type": "code",
      "source": [
        "epoches = 900\n",
        "losses = []\n",
        "for i in range(epoches):\n",
        "  optimizer.zero_grad()\n",
        "  out = lin_model1(inputs)\n",
        "  loss = criterion(out, targets)\n",
        "  losses.append(loss.item())\n",
        "  loss.backward()\n",
        "  optimizer.step()"
      ],
      "metadata": {
        "id": "dmAAZlJIo1Nk"
      },
      "execution_count": 53,
      "outputs": []
    },
    {
      "cell_type": "code",
      "source": [
        "plt.plot(losses)"
      ],
      "metadata": {
        "id": "Nq0mGNkcPMnN",
        "outputId": "b3ef8824-bdfa-4fb9-d58c-0e537ff2e19a",
        "colab": {
          "base_uri": "https://localhost:8080/",
          "height": 463
        }
      },
      "execution_count": 54,
      "outputs": [
        {
          "output_type": "execute_result",
          "data": {
            "text/plain": [
              "[<matplotlib.lines.Line2D at 0x7809c0eb7bb0>]"
            ]
          },
          "metadata": {},
          "execution_count": 54
        },
        {
          "output_type": "display_data",
          "data": {
            "text/plain": [
              "<Figure size 640x480 with 1 Axes>"
            ],
            "image/png": "[encoded data removed]"
          },
          "metadata": {}
        }
      ]
    },
    {
      "cell_type": "code",
      "source": [
        "lin_model1(inputs)"
      ],
      "metadata": {
        "id": "Em1fCQfnUMML",
        "outputId": "d563a65f-5dc7-43c5-ec13-6533cbf63743",
        "colab": {
          "base_uri": "https://localhost:8080/"
        }
      },
      "execution_count": 55,
      "outputs": [
        {
          "output_type": "execute_result",
          "data": {
            "text/plain": [
              "tensor([[nan],\n",
              "        [nan],\n",
              "        [nan],\n",
              "        [nan],\n",
              "        [nan],\n",
              "        [nan],\n",
              "        [nan],\n",
              "        [nan],\n",
              "        [nan],\n",
              "        [nan],\n",
              "        [nan],\n",
              "        [nan],\n",
              "        [nan],\n",
              "        [nan],\n",
              "        [nan],\n",
              "        [nan],\n",
              "        [nan],\n",
              "        [nan],\n",
              "        [nan],\n",
              "        [nan],\n",
              "        [nan],\n",
              "        [nan],\n",
              "        [nan],\n",
              "        [nan],\n",
              "        [nan],\n",
              "        [nan],\n",
              "        [nan],\n",
              "        [nan],\n",
              "        [nan],\n",
              "        [nan],\n",
              "        [nan],\n",
              "        [nan],\n",
              "        [nan],\n",
              "        [nan],\n",
              "        [nan],\n",
              "        [nan],\n",
              "        [nan],\n",
              "        [nan],\n",
              "        [nan],\n",
              "        [nan],\n",
              "        [nan],\n",
              "        [nan],\n",
              "        [nan],\n",
              "        [nan],\n",
              "        [nan],\n",
              "        [nan],\n",
              "        [nan],\n",
              "        [nan],\n",
              "        [nan],\n",
              "        [nan],\n",
              "        [nan],\n",
              "        [nan],\n",
              "        [nan],\n",
              "        [nan],\n",
              "        [nan],\n",
              "        [nan],\n",
              "        [nan],\n",
              "        [nan],\n",
              "        [nan],\n",
              "        [nan],\n",
              "        [nan],\n",
              "        [nan],\n",
              "        [nan],\n",
              "        [nan],\n",
              "        [nan],\n",
              "        [nan],\n",
              "        [nan],\n",
              "        [nan],\n",
              "        [nan],\n",
              "        [nan],\n",
              "        [nan],\n",
              "        [nan],\n",
              "        [nan],\n",
              "        [nan],\n",
              "        [nan],\n",
              "        [nan],\n",
              "        [nan],\n",
              "        [nan],\n",
              "        [nan],\n",
              "        [nan],\n",
              "        [nan],\n",
              "        [nan],\n",
              "        [nan],\n",
              "        [nan],\n",
              "        [nan],\n",
              "        [nan],\n",
              "        [nan],\n",
              "        [nan],\n",
              "        [nan],\n",
              "        [nan],\n",
              "        [nan],\n",
              "        [nan],\n",
              "        [nan],\n",
              "        [nan],\n",
              "        [nan],\n",
              "        [nan],\n",
              "        [nan],\n",
              "        [nan],\n",
              "        [nan],\n",
              "        [nan],\n",
              "        [nan],\n",
              "        [nan],\n",
              "        [nan],\n",
              "        [nan],\n",
              "        [nan],\n",
              "        [nan],\n",
              "        [nan]], grad_fn=<AddmmBackward0>)"
            ]
          },
          "metadata": {},
          "execution_count": 55
        }
      ]
    },
    {
      "cell_type": "code",
      "source": [
        "plt.plot(inputs, lin_model1(inputs).detach().numpy(), color='r')\n",
        "plt.scatter(inputs,targets)"
      ],
      "metadata": {
        "colab": {
          "base_uri": "https://localhost:8080/",
          "height": 448
        },
        "id": "kgxqIcYsplL_",
        "outputId": "8cb5500e-b326-440c-d4b4-a7f3452c959e"
      },
      "execution_count": 56,
      "outputs": [
        {
          "output_type": "execute_result",
          "data": {
            "text/plain": [
              "<matplotlib.collections.PathCollection at 0x7809c0f2ec50>"
            ]
          },
          "metadata": {},
          "execution_count": 56
        },
        {
          "output_type": "display_data",
          "data": {
            "text/plain": [
              "<Figure size 640x480 with 1 Axes>"
            ],
            "image/png": "[encoded data removed]"
          },
          "metadata": {}
        }
      ]
    },
    {
      "cell_type": "code",
      "source": [
        "from sklearn.preprocessing import StandardScaler\n",
        "sc = StandardScaler()\n",
        "data_1 = data.copy()\n",
        "sc.fit(data_1)\n"
      ],
      "metadata": {
        "colab": {
          "base_uri": "https://localhost:8080/",
          "height": 74
        },
        "id": "WtdHJAGaqLgq",
        "outputId": "8829ed21-f6ee-4724-f87b-27676a3bca51"
      },
      "execution_count": 57,
      "outputs": [
        {
          "output_type": "execute_result",
          "data": {
            "text/plain": [
              "StandardScaler()"
            ],
            "text/html": [
              "<style>#sk-container-id-2 {color: black;background-color: white;}#sk-container-id-2 pre{padding: 0;}#sk-container-id-2 div.sk-toggleable {background-color: white;}#sk-container-id-2 label.sk-toggleable__label {cursor: pointer;display: block;width: 100%;margin-bottom: 0;padding: 0.3em;box-sizing: border-box;text-align: center;}#sk-container-id-2 label.sk-toggleable__label-arrow:before {content: \"▸\";float: left;margin-right: 0.25em;color: #696969;}#sk-container-id-2 label.sk-toggleable__label-arrow:hover:before {color: black;}#sk-container-id-2 div.sk-estimator:hover label.sk-toggleable__label-arrow:before {color: black;}#sk-container-id-2 div.sk-toggleable__content {max-height: 0;max-width: 0;overflow: hidden;text-align: left;background-color: #f0f8ff;}#sk-container-id-2 div.sk-toggleable__content pre {margin: 0.2em;color: black;border-radius: 0.25em;background-color: #f0f8ff;}#sk-container-id-2 input.sk-toggleable__control:checked~div.sk-toggleable__content {max-height: 200px;max-width: 100%;overflow: auto;}#sk-container-id-2 input.sk-toggleable__control:checked~label.sk-toggleable__label-arrow:before {content: \"▾\";}#sk-container-id-2 div.sk-estimator input.sk-toggleable__control:checked~label.sk-toggleable__label {background-color: #d4ebff;}#sk-container-id-2 div.sk-label input.sk-toggleable__control:checked~label.sk-toggleable__label {background-color: #d4ebff;}#sk-container-id-2 input.sk-hidden--visually {border: 0;clip: rect(1px 1px 1px 1px);clip: rect(1px, 1px, 1px, 1px);height: 1px;margin: -1px;overflow: hidden;padding: 0;position: absolute;width: 1px;}#sk-container-id-2 div.sk-estimator {font-family: monospace;background-color: #f0f8ff;border: 1px dotted black;border-radius: 0.25em;box-sizing: border-box;margin-bottom: 0.5em;}#sk-container-id-2 div.sk-estimator:hover {background-color: #d4ebff;}#sk-container-id-2 div.sk-parallel-item::after {content: \"\";width: 100%;border-bottom: 1px solid gray;flex-grow: 1;}#sk-container-id-2 div.sk-label:hover label.sk-toggleable__label {background-color: #d4ebff;}#sk-container-id-2 div.sk-serial::before {content: \"\";position: absolute;border-left: 1px solid gray;box-sizing: border-box;top: 0;bottom: 0;left: 50%;z-index: 0;}#sk-container-id-2 div.sk-serial {display: flex;flex-direction: column;align-items: center;background-color: white;padding-right: 0.2em;padding-left: 0.2em;position: relative;}#sk-container-id-2 div.sk-item {position: relative;z-index: 1;}#sk-container-id-2 div.sk-parallel {display: flex;align-items: stretch;justify-content: center;background-color: white;position: relative;}#sk-container-id-2 div.sk-item::before, #sk-container-id-2 div.sk-parallel-item::before {content: \"\";position: absolute;border-left: 1px solid gray;box-sizing: border-box;top: 0;bottom: 0;left: 50%;z-index: -1;}#sk-container-id-2 div.sk-parallel-item {display: flex;flex-direction: column;z-index: 1;position: relative;background-color: white;}#sk-container-id-2 div.sk-parallel-item:first-child::after {align-self: flex-end;width: 50%;}#sk-container-id-2 div.sk-parallel-item:last-child::after {align-self: flex-start;width: 50%;}#sk-container-id-2 div.sk-parallel-item:only-child::after {width: 0;}#sk-container-id-2 div.sk-dashed-wrapped {border: 1px dashed gray;margin: 0 0.4em 0.5em 0.4em;box-sizing: border-box;padding-bottom: 0.4em;background-color: white;}#sk-container-id-2 div.sk-label label {font-family: monospace;font-weight: bold;display: inline-block;line-height: 1.2em;}#sk-container-id-2 div.sk-label-container {text-align: center;}#sk-container-id-2 div.sk-container {/* jupyter's `normalize.less` sets `[hidden] { display: none; }` but bootstrap.min.css set `[hidden] { display: none !important; }` so we also need the `!important` here to be able to override the default hidden behavior on the sphinx rendered scikit-learn.org. See: https://github.com/scikit-learn/scikit-learn/issues/21755 */display: inline-block !important;position: relative;}#sk-container-id-2 div.sk-text-repr-fallback {display: none;}</style><div id=\"sk-container-id-2\" class=\"sk-top-container\"><div class=\"sk-text-repr-fallback\"><pre>StandardScaler()</pre><b>In a Jupyter environment, please rerun this cell to show the HTML representation or trust the notebook. <br />On GitHub, the HTML representation is unable to render, please try loading this page with nbviewer.org.</b></div><div class=\"sk-container\" hidden><div class=\"sk-item\"><div class=\"sk-estimator sk-toggleable\"><input class=\"sk-toggleable__control sk-hidden--visually\" id=\"sk-estimator-id-2\" type=\"checkbox\" checked><label for=\"sk-estimator-id-2\" class=\"sk-toggleable__label sk-toggleable__label-arrow\">StandardScaler</label><div class=\"sk-toggleable__content\"><pre>StandardScaler()</pre></div></div></div></div></div>"
            ]
          },
          "metadata": {},
          "execution_count": 57
        }
      ]
    },
    {
      "cell_type": "code",
      "source": [
        "data_1[\"Transistors\"] = np.log(data_1[\"Transistors\"])"
      ],
      "metadata": {
        "id": "ZqSeNBB505Ng"
      },
      "execution_count": 58,
      "outputs": []
    },
    {
      "cell_type": "code",
      "source": [
        "df = sc.transform(data_1)"
      ],
      "metadata": {
        "id": "CHBFrLYkrx-T"
      },
      "execution_count": 59,
      "outputs": []
    },
    {
      "cell_type": "code",
      "source": [
        "X = df[:,0]\n",
        "y = df[:,1]"
      ],
      "metadata": {
        "id": "IrXIZaUV6aXo"
      },
      "execution_count": 60,
      "outputs": []
    },
    {
      "cell_type": "code",
      "source": [
        "plt.scatter(X,y)"
      ],
      "metadata": {
        "colab": {
          "base_uri": "https://localhost:8080/",
          "height": 463
        },
        "id": "IcXMzrMQr13P",
        "outputId": "dbfcae06-c66a-4662-c5f7-777ce52a8fc5"
      },
      "execution_count": 61,
      "outputs": [
        {
          "output_type": "execute_result",
          "data": {
            "text/plain": [
              "<matplotlib.collections.PathCollection at 0x7809c0db62c0>"
            ]
          },
          "metadata": {},
          "execution_count": 61
        },
        {
          "output_type": "display_data",
          "data": {
            "text/plain": [
              "<Figure size 640x480 with 1 Axes>"
            ],
            "image/png": "[encoded data removed]"
          },
          "metadata": {}
        }
      ]
    },
    {
      "cell_type": "code",
      "source": [
        "lin_model = nn.Linear(1,1)\n",
        "criterion = nn.MSELoss()\n",
        "optimizer = torch.optim.SGD(lin_model1.parameters(), lr = 0.000000001)"
      ],
      "metadata": {
        "id": "BVS-7cG_QNuI"
      },
      "execution_count": 62,
      "outputs": []
    },
    {
      "cell_type": "code",
      "source": [
        "inputs = torch.from_numpy(X.reshape(-1,1).astype(np.float32))\n",
        "targets = torch.from_numpy(y.reshape(-1,1).astype(np.float32))\n",
        "epoches = 500\n",
        "losses = []\n",
        "for i in range(epoches):\n",
        "  optimizer.zero_grad()\n",
        "  out = lin_model(inputs)\n",
        "  loss = criterion(out, targets)\n",
        "  losses.append(loss.item())\n",
        "  loss.backward()\n",
        "  optimizer.step()"
      ],
      "metadata": {
        "id": "4tOkAj8csTB0"
      },
      "execution_count": 63,
      "outputs": []
    },
    {
      "cell_type": "code",
      "source": [
        "plt.plot(losses)"
      ],
      "metadata": {
        "colab": {
          "base_uri": "https://localhost:8080/",
          "height": 448
        },
        "id": "SKXjxjrRshOl",
        "outputId": "19a9f4f8-02d3-4a03-a5d6-a9b205d12343"
      },
      "execution_count": 64,
      "outputs": [
        {
          "output_type": "execute_result",
          "data": {
            "text/plain": [
              "[<matplotlib.lines.Line2D at 0x7809c0e350f0>]"
            ]
          },
          "metadata": {},
          "execution_count": 64
        },
        {
          "output_type": "display_data",
          "data": {
            "text/plain": [
              "<Figure size 640x480 with 1 Axes>"
            ],
            "image/png": "[encoded data removed]"
          },
          "metadata": {}
        }
      ]
    },
    {
      "cell_type": "code",
      "source": [
        "plt.plot(X, lin_model(inputs).detach().numpy(), color='r')\n",
        "plt.scatter(X,log_y)"
      ],
      "metadata": {
        "colab": {
          "base_uri": "https://localhost:8080/",
          "height": 448
        },
        "id": "DG32TA_uslLG",
        "outputId": "bb93b1b8-f61a-47cc-a7aa-0487db5f3f0e"
      },
      "execution_count": 65,
      "outputs": [
        {
          "output_type": "execute_result",
          "data": {
            "text/plain": [
              "<matplotlib.collections.PathCollection at 0x7809c0cb52d0>"
            ]
          },
          "metadata": {},
          "execution_count": 65
        },
        {
          "output_type": "display_data",
          "data": {
            "text/plain": [
              "<Figure size 640x480 with 1 Axes>"
            ],
            "image/png": "[encoded data removed]"
          },
          "metadata": {}
        }
      ]
    },
    {
      "cell_type": "code",
      "source": [
        "losses"
      ],
      "metadata": {
        "colab": {
          "base_uri": "https://localhost:8080/"
        },
        "id": "EWqg8FkOus9_",
        "outputId": "e53784b7-0722-4c3c-bc70-a8348f6958d9"
      },
      "execution_count": 23,
      "outputs": [
        {
          "output_type": "execute_result",
          "data": {
            "text/plain": [
              "[2.1096808910369873,\n",
              " 2.1096808910369873,\n",
              " 2.1096808910369873,\n",
              " 2.1096808910369873,\n",
              " 2.1096808910369873,\n",
              " 2.1096808910369873,\n",
              " 2.1096808910369873,\n",
              " 2.1096808910369873,\n",
              " 2.1096808910369873,\n",
              " 2.1096808910369873,\n",
              " 2.1096808910369873,\n",
              " 2.1096808910369873,\n",
              " 2.1096808910369873,\n",
              " 2.1096808910369873,\n",
              " 2.1096808910369873,\n",
              " 2.1096808910369873,\n",
              " 2.1096808910369873,\n",
              " 2.1096808910369873,\n",
              " 2.1096808910369873,\n",
              " 2.1096808910369873,\n",
              " 2.1096808910369873,\n",
              " 2.1096808910369873,\n",
              " 2.1096808910369873,\n",
              " 2.1096808910369873,\n",
              " 2.1096808910369873,\n",
              " 2.1096808910369873,\n",
              " 2.1096808910369873,\n",
              " 2.1096808910369873,\n",
              " 2.1096808910369873,\n",
              " 2.1096808910369873,\n",
              " 2.1096808910369873,\n",
              " 2.1096808910369873,\n",
              " 2.1096808910369873,\n",
              " 2.1096808910369873,\n",
              " 2.1096808910369873,\n",
              " 2.1096808910369873,\n",
              " 2.1096808910369873,\n",
              " 2.1096808910369873,\n",
              " 2.1096808910369873,\n",
              " 2.1096808910369873,\n",
              " 2.1096808910369873,\n",
              " 2.1096808910369873,\n",
              " 2.1096808910369873,\n",
              " 2.1096808910369873,\n",
              " 2.1096808910369873,\n",
              " 2.1096808910369873,\n",
              " 2.1096808910369873,\n",
              " 2.1096808910369873,\n",
              " 2.1096808910369873,\n",
              " 2.1096808910369873,\n",
              " 2.1096808910369873,\n",
              " 2.1096808910369873,\n",
              " 2.1096808910369873,\n",
              " 2.1096808910369873,\n",
              " 2.1096808910369873,\n",
              " 2.1096808910369873,\n",
              " 2.1096808910369873,\n",
              " 2.1096808910369873,\n",
              " 2.1096808910369873,\n",
              " 2.1096808910369873,\n",
              " 2.1096808910369873,\n",
              " 2.1096808910369873,\n",
              " 2.1096808910369873,\n",
              " 2.1096808910369873,\n",
              " 2.1096808910369873,\n",
              " 2.1096808910369873,\n",
              " 2.1096808910369873,\n",
              " 2.1096808910369873,\n",
              " 2.1096808910369873,\n",
              " 2.1096808910369873,\n",
              " 2.1096808910369873,\n",
              " 2.1096808910369873,\n",
              " 2.1096808910369873,\n",
              " 2.1096808910369873,\n",
              " 2.1096808910369873,\n",
              " 2.1096808910369873,\n",
              " 2.1096808910369873,\n",
              " 2.1096808910369873,\n",
              " 2.1096808910369873,\n",
              " 2.1096808910369873,\n",
              " 2.1096808910369873,\n",
              " 2.1096808910369873,\n",
              " 2.1096808910369873,\n",
              " 2.1096808910369873,\n",
              " 2.1096808910369873,\n",
              " 2.1096808910369873,\n",
              " 2.1096808910369873,\n",
              " 2.1096808910369873,\n",
              " 2.1096808910369873,\n",
              " 2.1096808910369873,\n",
              " 2.1096808910369873,\n",
              " 2.1096808910369873,\n",
              " 2.1096808910369873,\n",
              " 2.1096808910369873,\n",
              " 2.1096808910369873,\n",
              " 2.1096808910369873,\n",
              " 2.1096808910369873,\n",
              " 2.1096808910369873,\n",
              " 2.1096808910369873,\n",
              " 2.1096808910369873,\n",
              " 2.1096808910369873,\n",
              " 2.1096808910369873,\n",
              " 2.1096808910369873,\n",
              " 2.1096808910369873,\n",
              " 2.1096808910369873,\n",
              " 2.1096808910369873,\n",
              " 2.1096808910369873,\n",
              " 2.1096808910369873,\n",
              " 2.1096808910369873,\n",
              " 2.1096808910369873,\n",
              " 2.1096808910369873,\n",
              " 2.1096808910369873,\n",
              " 2.1096808910369873,\n",
              " 2.1096808910369873,\n",
              " 2.1096808910369873,\n",
              " 2.1096808910369873,\n",
              " 2.1096808910369873,\n",
              " 2.1096808910369873,\n",
              " 2.1096808910369873,\n",
              " 2.1096808910369873,\n",
              " 2.1096808910369873,\n",
              " 2.1096808910369873,\n",
              " 2.1096808910369873,\n",
              " 2.1096808910369873,\n",
              " 2.1096808910369873,\n",
              " 2.1096808910369873,\n",
              " 2.1096808910369873,\n",
              " 2.1096808910369873,\n",
              " 2.1096808910369873,\n",
              " 2.1096808910369873,\n",
              " 2.1096808910369873,\n",
              " 2.1096808910369873,\n",
              " 2.1096808910369873,\n",
              " 2.1096808910369873,\n",
              " 2.1096808910369873,\n",
              " 2.1096808910369873,\n",
              " 2.1096808910369873,\n",
              " 2.1096808910369873,\n",
              " 2.1096808910369873,\n",
              " 2.1096808910369873,\n",
              " 2.1096808910369873,\n",
              " 2.1096808910369873,\n",
              " 2.1096808910369873,\n",
              " 2.1096808910369873,\n",
              " 2.1096808910369873,\n",
              " 2.1096808910369873,\n",
              " 2.1096808910369873,\n",
              " 2.1096808910369873,\n",
              " 2.1096808910369873,\n",
              " 2.1096808910369873,\n",
              " 2.1096808910369873,\n",
              " 2.1096808910369873,\n",
              " 2.1096808910369873,\n",
              " 2.1096808910369873,\n",
              " 2.1096808910369873,\n",
              " 2.1096808910369873,\n",
              " 2.1096808910369873,\n",
              " 2.1096808910369873,\n",
              " 2.1096808910369873,\n",
              " 2.1096808910369873,\n",
              " 2.1096808910369873,\n",
              " 2.1096808910369873,\n",
              " 2.1096808910369873,\n",
              " 2.1096808910369873,\n",
              " 2.1096808910369873,\n",
              " 2.1096808910369873,\n",
              " 2.1096808910369873,\n",
              " 2.1096808910369873,\n",
              " 2.1096808910369873,\n",
              " 2.1096808910369873,\n",
              " 2.1096808910369873,\n",
              " 2.1096808910369873,\n",
              " 2.1096808910369873,\n",
              " 2.1096808910369873,\n",
              " 2.1096808910369873,\n",
              " 2.1096808910369873,\n",
              " 2.1096808910369873,\n",
              " 2.1096808910369873,\n",
              " 2.1096808910369873,\n",
              " 2.1096808910369873,\n",
              " 2.1096808910369873,\n",
              " 2.1096808910369873,\n",
              " 2.1096808910369873,\n",
              " 2.1096808910369873,\n",
              " 2.1096808910369873,\n",
              " 2.1096808910369873,\n",
              " 2.1096808910369873,\n",
              " 2.1096808910369873,\n",
              " 2.1096808910369873,\n",
              " 2.1096808910369873,\n",
              " 2.1096808910369873,\n",
              " 2.1096808910369873,\n",
              " 2.1096808910369873,\n",
              " 2.1096808910369873,\n",
              " 2.1096808910369873,\n",
              " 2.1096808910369873,\n",
              " 2.1096808910369873,\n",
              " 2.1096808910369873,\n",
              " 2.1096808910369873,\n",
              " 2.1096808910369873,\n",
              " 2.1096808910369873,\n",
              " 2.1096808910369873,\n",
              " 2.1096808910369873,\n",
              " 2.1096808910369873,\n",
              " 2.1096808910369873,\n",
              " 2.1096808910369873,\n",
              " 2.1096808910369873,\n",
              " 2.1096808910369873,\n",
              " 2.1096808910369873,\n",
              " 2.1096808910369873,\n",
              " 2.1096808910369873,\n",
              " 2.1096808910369873,\n",
              " 2.1096808910369873,\n",
              " 2.1096808910369873,\n",
              " 2.1096808910369873,\n",
              " 2.1096808910369873,\n",
              " 2.1096808910369873,\n",
              " 2.1096808910369873,\n",
              " 2.1096808910369873,\n",
              " 2.1096808910369873,\n",
              " 2.1096808910369873,\n",
              " 2.1096808910369873,\n",
              " 2.1096808910369873,\n",
              " 2.1096808910369873,\n",
              " 2.1096808910369873,\n",
              " 2.1096808910369873,\n",
              " 2.1096808910369873,\n",
              " 2.1096808910369873,\n",
              " 2.1096808910369873,\n",
              " 2.1096808910369873,\n",
              " 2.1096808910369873,\n",
              " 2.1096808910369873,\n",
              " 2.1096808910369873,\n",
              " 2.1096808910369873,\n",
              " 2.1096808910369873,\n",
              " 2.1096808910369873,\n",
              " 2.1096808910369873,\n",
              " 2.1096808910369873,\n",
              " 2.1096808910369873,\n",
              " 2.1096808910369873,\n",
              " 2.1096808910369873,\n",
              " 2.1096808910369873,\n",
              " 2.1096808910369873,\n",
              " 2.1096808910369873,\n",
              " 2.1096808910369873,\n",
              " 2.1096808910369873,\n",
              " 2.1096808910369873,\n",
              " 2.1096808910369873,\n",
              " 2.1096808910369873,\n",
              " 2.1096808910369873,\n",
              " 2.1096808910369873,\n",
              " 2.1096808910369873,\n",
              " 2.1096808910369873,\n",
              " 2.1096808910369873,\n",
              " 2.1096808910369873,\n",
              " 2.1096808910369873,\n",
              " 2.1096808910369873,\n",
              " 2.1096808910369873,\n",
              " 2.1096808910369873,\n",
              " 2.1096808910369873,\n",
              " 2.1096808910369873,\n",
              " 2.1096808910369873,\n",
              " 2.1096808910369873,\n",
              " 2.1096808910369873,\n",
              " 2.1096808910369873,\n",
              " 2.1096808910369873,\n",
              " 2.1096808910369873,\n",
              " 2.1096808910369873,\n",
              " 2.1096808910369873,\n",
              " 2.1096808910369873,\n",
              " 2.1096808910369873,\n",
              " 2.1096808910369873,\n",
              " 2.1096808910369873,\n",
              " 2.1096808910369873,\n",
              " 2.1096808910369873,\n",
              " 2.1096808910369873,\n",
              " 2.1096808910369873,\n",
              " 2.1096808910369873,\n",
              " 2.1096808910369873,\n",
              " 2.1096808910369873,\n",
              " 2.1096808910369873,\n",
              " 2.1096808910369873,\n",
              " 2.1096808910369873,\n",
              " 2.1096808910369873,\n",
              " 2.1096808910369873,\n",
              " 2.1096808910369873,\n",
              " 2.1096808910369873,\n",
              " 2.1096808910369873,\n",
              " 2.1096808910369873,\n",
              " 2.1096808910369873,\n",
              " 2.1096808910369873,\n",
              " 2.1096808910369873,\n",
              " 2.1096808910369873,\n",
              " 2.1096808910369873,\n",
              " 2.1096808910369873,\n",
              " 2.1096808910369873,\n",
              " 2.1096808910369873,\n",
              " 2.1096808910369873,\n",
              " 2.1096808910369873,\n",
              " 2.1096808910369873,\n",
              " 2.1096808910369873,\n",
              " 2.1096808910369873,\n",
              " 2.1096808910369873,\n",
              " 2.1096808910369873,\n",
              " 2.1096808910369873,\n",
              " 2.1096808910369873,\n",
              " 2.1096808910369873,\n",
              " 2.1096808910369873,\n",
              " 2.1096808910369873,\n",
              " 2.1096808910369873,\n",
              " 2.1096808910369873,\n",
              " 2.1096808910369873,\n",
              " 2.1096808910369873,\n",
              " 2.1096808910369873,\n",
              " 2.1096808910369873,\n",
              " 2.1096808910369873,\n",
              " 2.1096808910369873,\n",
              " 2.1096808910369873,\n",
              " 2.1096808910369873,\n",
              " 2.1096808910369873,\n",
              " 2.1096808910369873,\n",
              " 2.1096808910369873,\n",
              " 2.1096808910369873,\n",
              " 2.1096808910369873,\n",
              " 2.1096808910369873,\n",
              " 2.1096808910369873,\n",
              " 2.1096808910369873,\n",
              " 2.1096808910369873,\n",
              " 2.1096808910369873,\n",
              " 2.1096808910369873,\n",
              " 2.1096808910369873,\n",
              " 2.1096808910369873,\n",
              " 2.1096808910369873,\n",
              " 2.1096808910369873,\n",
              " 2.1096808910369873,\n",
              " 2.1096808910369873,\n",
              " 2.1096808910369873,\n",
              " 2.1096808910369873,\n",
              " 2.1096808910369873,\n",
              " 2.1096808910369873,\n",
              " 2.1096808910369873,\n",
              " 2.1096808910369873,\n",
              " 2.1096808910369873,\n",
              " 2.1096808910369873,\n",
              " 2.1096808910369873,\n",
              " 2.1096808910369873,\n",
              " 2.1096808910369873,\n",
              " 2.1096808910369873,\n",
              " 2.1096808910369873,\n",
              " 2.1096808910369873,\n",
              " 2.1096808910369873,\n",
              " 2.1096808910369873,\n",
              " 2.1096808910369873,\n",
              " 2.1096808910369873,\n",
              " 2.1096808910369873,\n",
              " 2.1096808910369873,\n",
              " 2.1096808910369873,\n",
              " 2.1096808910369873,\n",
              " 2.1096808910369873,\n",
              " 2.1096808910369873,\n",
              " 2.1096808910369873,\n",
              " 2.1096808910369873,\n",
              " 2.1096808910369873,\n",
              " 2.1096808910369873,\n",
              " 2.1096808910369873,\n",
              " 2.1096808910369873,\n",
              " 2.1096808910369873,\n",
              " 2.1096808910369873,\n",
              " 2.1096808910369873,\n",
              " 2.1096808910369873,\n",
              " 2.1096808910369873,\n",
              " 2.1096808910369873,\n",
              " 2.1096808910369873,\n",
              " 2.1096808910369873,\n",
              " 2.1096808910369873,\n",
              " 2.1096808910369873,\n",
              " 2.1096808910369873,\n",
              " 2.1096808910369873,\n",
              " 2.1096808910369873,\n",
              " 2.1096808910369873,\n",
              " 2.1096808910369873,\n",
              " 2.1096808910369873,\n",
              " 2.1096808910369873,\n",
              " 2.1096808910369873,\n",
              " 2.1096808910369873,\n",
              " 2.1096808910369873,\n",
              " 2.1096808910369873,\n",
              " 2.1096808910369873,\n",
              " 2.1096808910369873,\n",
              " 2.1096808910369873,\n",
              " 2.1096808910369873,\n",
              " 2.1096808910369873,\n",
              " 2.1096808910369873,\n",
              " 2.1096808910369873,\n",
              " 2.1096808910369873,\n",
              " 2.1096808910369873,\n",
              " 2.1096808910369873,\n",
              " 2.1096808910369873,\n",
              " 2.1096808910369873,\n",
              " 2.1096808910369873,\n",
              " 2.1096808910369873,\n",
              " 2.1096808910369873,\n",
              " 2.1096808910369873,\n",
              " 2.1096808910369873,\n",
              " 2.1096808910369873,\n",
              " 2.1096808910369873,\n",
              " 2.1096808910369873,\n",
              " 2.1096808910369873,\n",
              " 2.1096808910369873,\n",
              " 2.1096808910369873,\n",
              " 2.1096808910369873,\n",
              " 2.1096808910369873,\n",
              " 2.1096808910369873,\n",
              " 2.1096808910369873,\n",
              " 2.1096808910369873,\n",
              " 2.1096808910369873,\n",
              " 2.1096808910369873,\n",
              " 2.1096808910369873,\n",
              " 2.1096808910369873,\n",
              " 2.1096808910369873,\n",
              " 2.1096808910369873,\n",
              " 2.1096808910369873,\n",
              " 2.1096808910369873,\n",
              " 2.1096808910369873,\n",
              " 2.1096808910369873,\n",
              " 2.1096808910369873,\n",
              " 2.1096808910369873,\n",
              " 2.1096808910369873,\n",
              " 2.1096808910369873,\n",
              " 2.1096808910369873,\n",
              " 2.1096808910369873,\n",
              " 2.1096808910369873,\n",
              " 2.1096808910369873,\n",
              " 2.1096808910369873,\n",
              " 2.1096808910369873,\n",
              " 2.1096808910369873,\n",
              " 2.1096808910369873,\n",
              " 2.1096808910369873,\n",
              " 2.1096808910369873,\n",
              " 2.1096808910369873,\n",
              " 2.1096808910369873,\n",
              " 2.1096808910369873,\n",
              " 2.1096808910369873,\n",
              " 2.1096808910369873,\n",
              " 2.1096808910369873,\n",
              " 2.1096808910369873,\n",
              " 2.1096808910369873,\n",
              " 2.1096808910369873,\n",
              " 2.1096808910369873,\n",
              " 2.1096808910369873,\n",
              " 2.1096808910369873,\n",
              " 2.1096808910369873,\n",
              " 2.1096808910369873,\n",
              " 2.1096808910369873,\n",
              " 2.1096808910369873,\n",
              " 2.1096808910369873,\n",
              " 2.1096808910369873,\n",
              " 2.1096808910369873,\n",
              " 2.1096808910369873,\n",
              " 2.1096808910369873,\n",
              " 2.1096808910369873,\n",
              " 2.1096808910369873,\n",
              " 2.1096808910369873,\n",
              " 2.1096808910369873,\n",
              " 2.1096808910369873,\n",
              " 2.1096808910369873,\n",
              " 2.1096808910369873,\n",
              " 2.1096808910369873,\n",
              " 2.1096808910369873,\n",
              " 2.1096808910369873,\n",
              " 2.1096808910369873,\n",
              " 2.1096808910369873,\n",
              " 2.1096808910369873,\n",
              " 2.1096808910369873,\n",
              " 2.1096808910369873,\n",
              " 2.1096808910369873,\n",
              " 2.1096808910369873,\n",
              " 2.1096808910369873,\n",
              " 2.1096808910369873,\n",
              " 2.1096808910369873,\n",
              " 2.1096808910369873,\n",
              " 2.1096808910369873,\n",
              " 2.1096808910369873,\n",
              " 2.1096808910369873,\n",
              " 2.1096808910369873,\n",
              " 2.1096808910369873,\n",
              " 2.1096808910369873,\n",
              " 2.1096808910369873,\n",
              " 2.1096808910369873,\n",
              " 2.1096808910369873,\n",
              " 2.1096808910369873,\n",
              " 2.1096808910369873,\n",
              " 2.1096808910369873,\n",
              " 2.1096808910369873,\n",
              " 2.1096808910369873,\n",
              " 2.1096808910369873,\n",
              " 2.1096808910369873,\n",
              " 2.1096808910369873,\n",
              " 2.1096808910369873,\n",
              " 2.1096808910369873]"
            ]
          },
          "metadata": {},
          "execution_count": 23
        }
      ]
    },
    {
      "cell_type": "code",
      "source": [],
      "metadata": {
        "id": "2qZoWb1-wWSf"
      },
      "execution_count": 23,
      "outputs": []
    }
  ]
}